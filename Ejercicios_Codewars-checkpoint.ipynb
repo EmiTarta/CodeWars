{
 "cells": [
  {
   "cell_type": "markdown",
   "id": "5d6e138c-cb91-442d-9d4a-2f8445235199",
   "metadata": {
    "jp-MarkdownHeadingCollapsed": true
   },
   "source": [
    "# KATAS randoms"
   ]
  },
  {
   "cell_type": "markdown",
   "id": "1192fbf5-1c24-43e1-833c-10529dd84152",
   "metadata": {},
   "source": [
    "## Detect **PANAGRAM**"
   ]
  },
  {
   "cell_type": "markdown",
   "id": "7e4da0a0-1631-42e1-8ec7-b577c05b4d3b",
   "metadata": {},
   "source": [
    "A pangram is a sentence that contains every single letter of the alphabet at least once. For example, the sentence \"The quick brown fox jumps over the lazy dog\" is a pangram, because it uses the letters A-Z at least once (case is irrelevant).\n",
    "\n",
    "Given a string, detect whether or not it is a pangram. Return True if it is, False if not. Ignore numbers and punctuation."
   ]
  },
  {
   "cell_type": "code",
   "execution_count": 1,
   "id": "9f670427-51ba-4ce2-b6f0-cf52ea6c51c6",
   "metadata": {},
   "outputs": [
    {
     "name": "stdout",
     "output_type": "stream",
     "text": [
      "True\n"
     ]
    }
   ],
   "source": [
    "def is_pangram(string):\n",
    "    string = string.lower()\n",
    "    letras = [\"a\", \"b\", \"c\", \"d\", \"e\", \"f\", \"g\", \"h\", \"i\", \"j\", \"k\", \"l\", \"m\", \"n\", \"o\", \"p\", \"q\", \"r\", \"s\", \"t\", \"u\", \"v\", \"w\", \"x\", \"y\", \"z\"]\n",
    "    for letra in letras:\n",
    "        if letra not in string:\n",
    "            return False\n",
    "        return True\n",
    "string = \"The quick brown fox jumps over the lazy dog\"\n",
    "print(is_pangram(string))"
   ]
  },
  {
   "cell_type": "markdown",
   "id": "3f68b39e-3221-4d2c-9c26-9431a2e8e92a",
   "metadata": {
    "jp-MarkdownHeadingCollapsed": true
   },
   "source": [
    "## Count the number of Duplicates"
   ]
  },
  {
   "cell_type": "markdown",
   "id": "28f0b60f-4ccf-4549-9bcb-c822a0fec878",
   "metadata": {},
   "source": [
    "Write a function that will return the count of distinct case-insensitive alphabetic characters and numeric digits that occur more than once in the input string. The input string can be assumed to contain only alphabets (both uppercase and lowercase) and numeric digits.\n",
    "\n",
    "Example\n",
    "\"abcde\" -> 0 # no characters repeats more than once\n",
    "\n",
    "\"aabbcde\" -> 2 # 'a' and 'b'\n",
    "\n",
    "\"aabBcde\" -> 2 # 'a' occurs twice and 'b' twice (`b` and `B`)\n",
    "\n",
    "\"indivisibility\" -> 1 # 'i' occurs six times\n",
    "\n",
    "\"Indivisibilities\" -> 2 # 'i' occurs seven times and 's' occurs twice\n",
    "\n",
    "\"aA11\" -> 2 # 'a' and '1'\n",
    "\n",
    "\"ABBA\" -> 2 # 'A' and 'B' each occur twice"
   ]
  },
  {
   "cell_type": "code",
   "execution_count": 2,
   "id": "d7ade80a-9ad1-42d4-9075-7689c4452249",
   "metadata": {},
   "outputs": [
    {
     "name": "stdout",
     "output_type": "stream",
     "text": [
      "3\n"
     ]
    }
   ],
   "source": [
    "def duplicate_count(text):\n",
    "    text = text.lower()\n",
    "    contador = {}\n",
    "    duplicados = 0 \n",
    "    \n",
    "    for caracter in text:\n",
    "        if caracter in contador:\n",
    "            contador[caracter] += 1\n",
    "        else:\n",
    "            contador[caracter] = 1\n",
    "    \n",
    "    for valor in contador.values():\n",
    "        if valor > 1:\n",
    "            duplicados += 1\n",
    "   \n",
    "    return duplicados\n",
    "    \n",
    "text= \"11AaBba\"\n",
    "print(duplicate_count(text))"
   ]
  },
  {
   "cell_type": "markdown",
   "id": "b106d8f9-dd25-4db9-af8e-44b72fe55a9a",
   "metadata": {
    "jp-MarkdownHeadingCollapsed": true
   },
   "source": [
    "## **Define a function that removes duplicates from an array of non negative numbers and returns it as a result.**"
   ]
  },
  {
   "cell_type": "markdown",
   "id": "91555d7d-4128-4edd-b28c-380bfc58d165",
   "metadata": {},
   "source": [
    "\n",
    "The order of the sequence has to stay the same.\n",
    "\n",
    "Examples:\n",
    "\n",
    "Input -> Output\n",
    "[1, 1, 2] -> [1, 2]\n",
    "[1, 2, 1, 1, 3, 2] -> [1, 2, 3]"
   ]
  },
  {
   "cell_type": "code",
   "execution_count": 3,
   "id": "fbb09165-3e30-402d-9b1e-37c0ea5b4262",
   "metadata": {},
   "outputs": [
    {
     "name": "stdout",
     "output_type": "stream",
     "text": [
      "[1, 2, 3, 4]\n"
     ]
    }
   ],
   "source": [
    "seq = 1, 2, 3, 1, 4\n",
    "def distinct(seq): \n",
    "    contador = {} # Diccionario vacío para almacenar los elementos únicos\n",
    "    resultado = [] # Lista para mantener los elementos en orden\n",
    "    for i in (seq): \n",
    "        if i not in contador: # Si el número no está en el diccionario\n",
    "            contador[i] = True  # Lo añadimos como clave al diccionario\n",
    "            resultado.append(i) # Añadimos el número a la lista de resultado\n",
    "    return resultado\n",
    "print(distinct(seq))"
   ]
  },
  {
   "cell_type": "markdown",
   "id": "afd64300-7321-4cc5-9299-261b59867342",
   "metadata": {},
   "source": [
    "#### **Resolucion mas corta y simple en codewars**"
   ]
  },
  {
   "cell_type": "code",
   "execution_count": 4,
   "id": "6407fad2-be7b-4347-87c5-c08737200273",
   "metadata": {},
   "outputs": [
    {
     "data": {
      "text/plain": [
       "{1, 2, 3, 4}"
      ]
     },
     "execution_count": 4,
     "metadata": {},
     "output_type": "execute_result"
    }
   ],
   "source": [
    "seq = 1, 2, 3, 1, 4\n",
    "set(seq)\n"
   ]
  },
  {
   "cell_type": "markdown",
   "id": "e3ed5677-38e7-4f5a-8461-006940aa422e",
   "metadata": {},
   "source": [
    "**Paso a paso:**\n",
    "set(seq):\n",
    "\n",
    "Un set es una estructura de datos que elimina automáticamente los duplicados. Cuando conviertes la lista seq en un conjunto, todos los duplicados desaparecen.\n",
    "\n",
    "**Nota importante: Los conjuntos no mantienen el orden de los elementos, lo que hace necesario el siguiente paso.**\n",
    "\n"
   ]
  },
  {
   "cell_type": "code",
   "execution_count": 5,
   "id": "7208d7a8-d4a2-4551-9453-55c5a1afa16d",
   "metadata": {},
   "outputs": [
    {
     "name": "stdout",
     "output_type": "stream",
     "text": [
      "[1, 2, 3, 4]\n"
     ]
    }
   ],
   "source": [
    "seq = 1, 2, 3, 1, 4\n",
    "def distinct(seq):\n",
    "    return sorted(set(seq), key = seq.index)\n",
    "print(distinct(seq))"
   ]
  },
  {
   "cell_type": "markdown",
   "id": "51b4a458-721f-4ba4-ae79-1c3b92bdc9df",
   "metadata": {},
   "source": [
    "**sorted(set(seq), key=seq.index):**\n",
    "\n",
    "sorted(): Ordena los elementos del conjunto.\n",
    "\n",
    "key=seq.index: Aquí está la clave (literalmente) de la solución. El argumento key le dice a sorted() cómo ordenar los elementos.\n",
    "seq.index es una función que devuelve el índice de la primera aparición de un elemento en la lista original (seq).\n",
    "Así, el sorted() ordena los elementos del conjunto (que eliminó duplicados) en el mismo orden en que aparecieron originalmente en la lista.\n",
    "\n",
    "**En resumen:\n",
    "Se eliminan los duplicados con set(seq).**\n",
    "\n",
    "**Luego, se usa sorted() para ordenar los elementos según su posición original en la lista seq.**\n",
    "\n",
    "Ejemplo:\n",
    "Supón que seq = [3, 1, 2, 3, 4, 1, 2].\n",
    "\n",
    "Primero, set(seq) elimina duplicados: {1, 2, 3, 4} (sin orden).\n",
    "\n",
    "Luego, sorted(set(seq), key=seq.index) ordena los elementos según la posición en la que aparecen por primera vez en seq, devolviendo [3, 1, 2, 4].\n",
    "\n",
    "Es una solución elegante y eficiente que combina varias herramientas de Python de forma concisa."
   ]
  },
  {
   "cell_type": "markdown",
   "id": "54f377db-1ad9-41cc-980b-c1f13bd5873b",
   "metadata": {
    "jp-MarkdownHeadingCollapsed": true
   },
   "source": [
    "## Create a function that returns the sum of the two lowest positive numbers given an array of minimum 4 positive integers. No floats or non-positive integers will be passed."
   ]
  },
  {
   "cell_type": "markdown",
   "id": "4cb688a0-2f38-47b4-84fc-7d920f5d3438",
   "metadata": {},
   "source": [
    "\n",
    "For example, when an array is passed like [19, 5, 42, 2, 77], the output should be 7.\n",
    "\n",
    "[10, 343445353, 3453445, 3453545353453] should return 3453455."
   ]
  },
  {
   "cell_type": "code",
   "execution_count": 6,
   "id": "455d5609-f898-4efb-a25f-6abb0e4fffa7",
   "metadata": {},
   "outputs": [
    {
     "name": "stdout",
     "output_type": "stream",
     "text": [
      "7\n"
     ]
    }
   ],
   "source": [
    "lista = [19, 5, 42, 2, 77]\n",
    "def sumar(lista):\n",
    "    lista.sort()\n",
    "    result = lista[0] + lista[1]\n",
    "    return result\n",
    "print(sumar(lista))"
   ]
  },
  {
   "cell_type": "markdown",
   "id": "67f8da8e-0d22-4464-b118-7e38498d43d9",
   "metadata": {},
   "source": [
    "#### Resolucion + simple en Codewars"
   ]
  },
  {
   "cell_type": "code",
   "execution_count": 7,
   "id": "640162f4-d1c8-4083-97a1-4473df6ea591",
   "metadata": {},
   "outputs": [
    {
     "name": "stdout",
     "output_type": "stream",
     "text": [
      "7\n"
     ]
    }
   ],
   "source": [
    "numbers = 19, 5, 42, 2, 77\n",
    "def sum_two_smallest_numbers(numbers):\n",
    "    return sum(sorted(numbers)[:2])\n",
    "print(sum_two_smallest_numbers(numbers))"
   ]
  },
  {
   "cell_type": "markdown",
   "id": "2ec8c34b-25a6-4b29-ac2f-775a9564ee1e",
   "metadata": {
    "jp-MarkdownHeadingCollapsed": true
   },
   "source": [
    "## Take 2 strings s1 and s2 including only letters from a to z. "
   ]
  },
  {
   "cell_type": "markdown",
   "id": "bd54c113-c001-420b-a20f-b7de43f69e60",
   "metadata": {},
   "source": [
    "\n",
    "Return a new sorted string (alphabetical ascending), the longest possible, containing distinct letters - each taken only once - coming from s1 or s2.\n",
    "\n",
    "Ejemplo:\n",
    "\n",
    "a = \"xyaabbbccccdefww\"     ///      b = \"xxxxyyyyabklmopq\"\n",
    "\n",
    "longest(a, b) -> \"abcdefklmopqwxy\"\n",
    "\n",
    "a = \"abcdefghijklmnopqrstuvwxyz\"\n",
    "\n",
    "longest(a, a) -> \"abcdefghijklmnopqrstuvwxyz\""
   ]
  },
  {
   "cell_type": "code",
   "execution_count": 8,
   "id": "a65a21ba-1028-4155-a093-74d717477a19",
   "metadata": {},
   "outputs": [
    {
     "name": "stdout",
     "output_type": "stream",
     "text": [
      "abcdefgklmopqwxy\n"
     ]
    }
   ],
   "source": [
    "s1 = \"gxyaabbbccccdefww\"\n",
    "s2 = \"xxxxyyyyabklmopq\"\n",
    "def long_string(string):\n",
    "    string = list(s1 + s2)\n",
    "    string.sort()\n",
    "    resultado = []\n",
    "    for caracter in string:\n",
    "        if caracter not in resultado: \n",
    "            resultado.append(caracter)\n",
    "    resultado = ''.join(resultado)\n",
    "    return resultado\n",
    "print(long_string(string))"
   ]
  },
  {
   "cell_type": "markdown",
   "id": "e89c6c81-034a-4b60-a408-d9c81827c63b",
   "metadata": {},
   "source": [
    "#### Resolucion + simple en Codewars"
   ]
  },
  {
   "cell_type": "code",
   "execution_count": 9,
   "id": "f6f3d003-8680-41ec-8bb0-c742fae1df08",
   "metadata": {},
   "outputs": [],
   "source": [
    "def longest(a1, a2):\n",
    "    return \"\".join(sorted(set(a1 + a2)))"
   ]
  },
  {
   "cell_type": "markdown",
   "id": "6307d9e0-84dd-4c74-936c-c088126a5fa2",
   "metadata": {
    "jp-MarkdownHeadingCollapsed": true
   },
   "source": [
    "## Complete the function that accepts a string parameter, and reverses each word in the string. "
   ]
  },
  {
   "cell_type": "markdown",
   "id": "e946bfaf-4ee9-477e-a30b-e1f223b1736b",
   "metadata": {},
   "source": [
    "#### Resolucion + simple en Codewars"
   ]
  },
  {
   "cell_type": "code",
   "execution_count": 10,
   "id": "02c0eb45-7d46-41b3-8f44-8222782da0eb",
   "metadata": {},
   "outputs": [],
   "source": [
    "def reverse_words(str):\n",
    "  #go for it\n",
    "  newStr = []\n",
    "  for i in str.split(' '):\n",
    "      newStr.append(i[::-1])\n",
    "  return ' '.join(newStr)"
   ]
  },
  {
   "cell_type": "markdown",
   "id": "ee2bbb77-96d9-468c-bcb3-8f9f4b38cb27",
   "metadata": {
    "jp-MarkdownHeadingCollapsed": true
   },
   "source": [
    "## Your task is to make a function that can take any non-negative integer as an argument and return it with its digits in descending order. Essentially, rearrange the digits to create the highest possible number."
   ]
  },
  {
   "cell_type": "code",
   "execution_count": 11,
   "id": "5bd34059-9386-4983-a870-5d5781e124ae",
   "metadata": {},
   "outputs": [],
   "source": [
    "def Descending_Order(num):\n",
    "    return int(''.join(sorted(list(str(num)), reverse=True)))"
   ]
  },
  {
   "cell_type": "markdown",
   "id": "5601cdce-e16d-47bf-bfd6-8d12ee623af8",
   "metadata": {
    "jp-MarkdownHeadingCollapsed": true
   },
   "source": [
    "## Implement a function that adds two numbers together and returns their sum in binary. The conversion can be done before, or after the addition."
   ]
  },
  {
   "cell_type": "markdown",
   "id": "026d43a1-ca85-4bf9-a2a7-84391d74462b",
   "metadata": {},
   "source": [
    "The binary number returned should be a string.\n",
    "\n",
    "Examples:(Input1, Input2 --> Output (explanation)))\n",
    "\n",
    "1, 1 --> \"10\" (1 + 1 = 2 in decimal or 10 in binary)\n",
    "5, 9 --> \"1110\" (5 + 9 = 14 in decimal or 1110 in binary)"
   ]
  },
  {
   "cell_type": "markdown",
   "id": "8a5fe91c-3ae6-445d-8432-c7bfda6206a6",
   "metadata": {},
   "source": [
    "# KATAS de Fundamentals\n"
   ]
  },
  {
   "cell_type": "markdown",
   "id": "78d25b23",
   "metadata": {},
   "source": [
    "## LEVEL 1: \"Easy peasy lemon squeezy\" (OBLIGATORIO*)"
   ]
  },
  {
   "cell_type": "markdown",
   "id": "e8bc8f7e-89f8-4bd9-a35f-3f35a343cdaf",
   "metadata": {
    "jp-MarkdownHeadingCollapsed": true
   },
   "source": [
    "### [Incorrect division method](https://www.codewars.com/kata/54d1c59aba326343c80000e7)"
   ]
  },
  {
   "cell_type": "code",
   "execution_count": 12,
   "id": "29388dd4-5f1b-4207-8c81-0402b36531eb",
   "metadata": {},
   "outputs": [],
   "source": [
    "def divide_numbers(x,y):\n",
    "    return x / y"
   ]
  },
  {
   "cell_type": "code",
   "execution_count": 13,
   "id": "9ccc5aee-ab74-4a84-91f6-7f92921a9da2",
   "metadata": {},
   "outputs": [
    {
     "data": {
      "text/plain": [
       "7.5"
      ]
     },
     "execution_count": 13,
     "metadata": {},
     "output_type": "execute_result"
    }
   ],
   "source": [
    "divide_numbers(15,2)"
   ]
  },
  {
   "cell_type": "markdown",
   "id": "756c177a-c22f-4813-bf4d-88435ba6dd90",
   "metadata": {
    "jp-MarkdownHeadingCollapsed": true
   },
   "source": [
    "### [Keep Hydrated!](https://www.codewars.com/kata/582cb0224e56e068d800003c)"
   ]
  },
  {
   "cell_type": "markdown",
   "id": "5d3363b8-6fd8-46d8-b825-450fee02afac",
   "metadata": {},
   "source": [
    "Nathan loves cycling.\n",
    "\n",
    "Because Nathan knows it is important to stay hydrated, he drinks 0.5 litres of water per hour of cycling.\n",
    "\n",
    "You get given the time in hours and you need to return the number of litres Nathan will drink, rounded to the smallest value.\n",
    "\n",
    "For example:\n",
    "\n",
    "time = 3 ----> litres = 1\n",
    "\n",
    "time = 6.7---> litres = 3\n",
    "\n",
    "time = 11.8--> litres = 5"
   ]
  },
  {
   "cell_type": "code",
   "execution_count": 14,
   "id": "837afd35-d8f8-476c-ac01-1c87d0e7dc08",
   "metadata": {},
   "outputs": [],
   "source": [
    "import math\n",
    "def litres(time):\n",
    "    water = time * 0.5\n",
    "    return math.floor(water)"
   ]
  },
  {
   "cell_type": "code",
   "execution_count": 15,
   "id": "2dabfbac-a096-486e-ac74-860b701e38a9",
   "metadata": {},
   "outputs": [
    {
     "data": {
      "text/plain": [
       "6"
      ]
     },
     "execution_count": 15,
     "metadata": {},
     "output_type": "execute_result"
    }
   ],
   "source": [
    "litres(12.5)"
   ]
  },
  {
   "cell_type": "markdown",
   "id": "6cd39819-9c2a-4725-8773-a7d7f87c561c",
   "metadata": {
    "jp-MarkdownHeadingCollapsed": true
   },
   "source": [
    "### [Find the smallest integer in the array](https://www.codewars.com/kata/55a2d7ebe362935a210000b2)"
   ]
  },
  {
   "cell_type": "markdown",
   "id": "7d5ff784-4e9d-42d8-9cfd-fb4b30ded2c0",
   "metadata": {
    "jp-MarkdownHeadingCollapsed": true
   },
   "source": [
    "Given an array of integers your solution should find the smallest integer.\n",
    "\n",
    "For example:\n",
    "\n",
    "Given [34, 15, 88, 2] your solution will return 2\n",
    "Given [34, -345, -1, 100] your solution will return -345\n",
    "You can assume, for the purpose of this kata, that the supplied array will not be empty."
   ]
  },
  {
   "cell_type": "code",
   "execution_count": 92,
   "id": "66b8bbd3-1c9d-417c-9f29-9f38507f7bef",
   "metadata": {},
   "outputs": [],
   "source": [
    "def find_smallest_int(arr):\n",
    "    arr = min(arr)\n",
    "    return arr"
   ]
  },
  {
   "cell_type": "code",
   "execution_count": 93,
   "id": "059ea7aa-2f0c-4bb3-b8f6-1c3c250ec401",
   "metadata": {},
   "outputs": [
    {
     "name": "stdout",
     "output_type": "stream",
     "text": [
      "1\n"
     ]
    }
   ],
   "source": [
    "arr = [1, 34, 15, 88, 2]\n",
    "print(find_smallest_int(arr))"
   ]
  },
  {
   "cell_type": "markdown",
   "id": "317537c2-8ca4-4ce6-a080-a6f0222e3290",
   "metadata": {
    "jp-MarkdownHeadingCollapsed": true
   },
   "source": [
    "### [Remove First and Last Character](https://www.codewars.com/kata/56bc28ad5bdaeb48760009b0)"
   ]
  },
  {
   "cell_type": "markdown",
   "id": "0d934498-ed10-4bea-a701-4964ddfce5c2",
   "metadata": {},
   "source": [
    "It's pretty straightforward. Your goal is to create a function that removes the first and last characters of a string. You're given one parameter, the original string. You don't have to worry about strings with less than two characters."
   ]
  },
  {
   "cell_type": "code",
   "execution_count": 6,
   "id": "9a2c285c-73b5-474b-8a93-930212f5f929",
   "metadata": {},
   "outputs": [],
   "source": [
    "def remove_char(txt):\n",
    "    if len(txt) < 2:\n",
    "        print (\"Menos de 2 caracteres\")\n",
    "    else:\n",
    "        return txt[1:-1]"
   ]
  },
  {
   "cell_type": "code",
   "execution_count": null,
   "id": "6233bcdf-b4ef-458d-9d47-9518e4ac857f",
   "metadata": {},
   "outputs": [],
   "source": [
    "remover('Calabaza')"
   ]
  },
  {
   "cell_type": "code",
   "execution_count": null,
   "id": "2d6d3bd6-8dd9-459f-a8fe-21d49b957616",
   "metadata": {},
   "outputs": [],
   "source": [
    "remover('No')"
   ]
  },
  {
   "cell_type": "markdown",
   "id": "6e22d162-73ce-4e87-ba6b-802b228eecb9",
   "metadata": {},
   "source": [
    "Resolucion + simple en Codewars"
   ]
  },
  {
   "cell_type": "code",
   "execution_count": 9,
   "id": "6844d1c0-2514-4692-9e4a-1a7f05651482",
   "metadata": {},
   "outputs": [],
   "source": [
    "def remove_char(s):\n",
    "    return '' if len(s) <= 2 else s[1:-1]"
   ]
  },
  {
   "cell_type": "markdown",
   "id": "bb0becfb-d95c-4b41-83ba-651565249207",
   "metadata": {},
   "source": [
    "## Level 2:  \"Peasy\""
   ]
  },
  {
   "cell_type": "markdown",
   "id": "4d9848bf-d18e-4f7b-b400-790a305bc1f6",
   "metadata": {
    "jp-MarkdownHeadingCollapsed": true
   },
   "source": [
    "### [Deodorant Evaporator](https://www.codewars.com/kata/5506b230a11c0aeab3000c1f)\n"
   ]
  },
  {
   "cell_type": "markdown",
   "id": "5b0d0014-275b-4eb9-bd3b-d0d385373ac6",
   "metadata": {},
   "source": [
    "**This program tests the life of an evaporator containing a gas.**\n",
    "\n",
    "We know the content of the evaporator (content in ml), the percentage of foam or gas lost every day (evap_per_day) and the threshold (threshold) in percentage beyond which the evaporator is no longer useful. All numbers are strictly positive.\n",
    "\n",
    "The program reports the nth day (as an integer) on which the evaporator will be out of use.\n",
    "\n",
    "*Example:*\n",
    "evaporator(10, 10, 5) -> 29\n",
    "\n",
    "**Note:**\n",
    "Content is in fact not necessary in the body of the function \"evaporator\", you can use it or not use it, as you wish. Some people might prefer to reason with content, some other with percentages only. It's up to you but you must keep it as a parameter because the tests have it as an argument."
   ]
  },
  {
   "cell_type": "code",
   "execution_count": 6,
   "id": "072d2c4f-33bc-46a5-8a03-cf04f9eed8d0",
   "metadata": {},
   "outputs": [],
   "source": [
    "def evaporator(content, evap_per_day, threshold): \n",
    "    days = 0 \n",
    "    gas_remaining = content  # Inicializa el gas restante con el contenido\n",
    "    threshold = content * (threshold / 100)  # Convierte el umbral a valor absoluto\n",
    "\n",
    "    while gas_remaining > threshold:  # Mientras haya más gas que el umbral\n",
    "        gas_lost = gas_remaining * (evap_per_day / 100)  # Calcula el gas perdido\n",
    "        gas_remaining -= gas_lost  # Actualiza el gas restante\n",
    "        days += 1  # Incrementa el contador de días\n",
    "\n",
    "    return days  # Devuelve el número de días"
   ]
  },
  {
   "cell_type": "code",
   "execution_count": 7,
   "id": "f33006aa-84d6-46a6-aa5e-68857ecdf0e2",
   "metadata": {},
   "outputs": [
    {
     "data": {
      "text/plain": [
       "29"
      ]
     },
     "execution_count": 7,
     "metadata": {},
     "output_type": "execute_result"
    }
   ],
   "source": [
    "evaporator(10,10,5)"
   ]
  },
  {
   "cell_type": "markdown",
   "id": "dfa70e0d-239c-40d8-a453-0e1c1ad1a95d",
   "metadata": {
    "jp-MarkdownHeadingCollapsed": true
   },
   "source": [
    "Resolucion + simple en Codewars"
   ]
  },
  {
   "cell_type": "code",
   "execution_count": null,
   "id": "b3fb2a96-856f-49f3-b53b-13328d0b2b48",
   "metadata": {},
   "outputs": [],
   "source": [
    "def evaporator(content, evap_per_day, threshold):\n",
    "    n = 0\n",
    "    current = 100\n",
    "    percent = 1 - evap_per_day / 100.0\n",
    "    while current > threshold:\n",
    "        current *= percent\n",
    "        n += 1\n",
    "    return n"
   ]
  },
  {
   "cell_type": "markdown",
   "id": "4172fb2c-e967-4f9f-8925-b40453989acc",
   "metadata": {
    "jp-MarkdownHeadingCollapsed": true
   },
   "source": [
    "### [See You Next Happy Year](https://www.codewars.com/kata/5ae7e3f068e6445bc8000046)"
   ]
  },
  {
   "cell_type": "markdown",
   "id": "e46c274a-5284-4dba-8516-172c0520b009",
   "metadata": {},
   "source": [
    "**Scenario**\n",
    "You're saying good-bye your best friend , *See you next happy year* .\n",
    "\n",
    "Happy Year is the year with only distinct digits , (e.g) 2018\n",
    "\n",
    "**Task**\n",
    "\n",
    "Given a year, Find The next happy year or The closest year You'll see your best friend\n",
    "\n",
    "**Notes**\n",
    "\n",
    "- Year Of Course always Positive .\n",
    "- Have no fear , It is guaranteed that the answer exists .\n",
    "- It's not necessary that the year passed to the function is Happy one .\n",
    "- Input Year with in range (1000  ≤  y  ≤  9000)\n",
    "\n",
    "\n",
    "***Input >> Output Examples:***\n",
    "\n",
    "nextHappyYear (7712) ==> return (7801)\n",
    "\n",
    "**Explanation:**\n",
    "\n",
    "As the Next closest year with only distinct digits is 7801 .\n",
    "\n",
    "\n",
    "nextHappyYear (8989) ==> return (9012)\n",
    "\n",
    "**Explanation:**\n",
    "\n",
    "As the Next closest year with only distinct digits is 9012 .\n",
    "\n",
    "\n",
    "nextHappyYear (1001) ==> return (1023)\n",
    "\n",
    "**Explanation:**\n",
    "\n",
    "As the Next closest year with only distinct digits is 1023 ."
   ]
  },
  {
   "cell_type": "code",
   "execution_count": 100,
   "id": "54909689-9759-421a-87d0-4dd6483f1d4a",
   "metadata": {},
   "outputs": [],
   "source": [
    "def next_happy_year(number): \n",
    "    number = number + 1\n",
    "    while True:\n",
    "        number_str = str(number)\n",
    "        set_digits = set(number_str)\n",
    "        if len(set_digits) == len(number_str):\n",
    "            print (\"Found next happy year:\", number)\n",
    "            return number\n",
    "        number = number + 1                "
   ]
  },
  {
   "cell_type": "code",
   "execution_count": null,
   "id": "2fc1feac-b40c-4356-98c5-eb96d47aa204",
   "metadata": {},
   "outputs": [],
   "source": [
    "next_happy_year(8989)"
   ]
  },
  {
   "cell_type": "markdown",
   "id": "a62194cc-69f1-4ac5-ad52-cab25f7e759b",
   "metadata": {},
   "source": [
    "Resolucion + simple en Codewars"
   ]
  },
  {
   "cell_type": "code",
   "execution_count": 102,
   "id": "b6bdf5a7-badb-42c1-a8b4-98bdf7efe699",
   "metadata": {},
   "outputs": [],
   "source": [
    "def next_happy_year(year):\n",
    "    for n in range(year+1, 9999):\n",
    "        if len(set(str(n))) == 4:\n",
    "            return n"
   ]
  },
  {
   "cell_type": "markdown",
   "id": "6c90fa60-09e2-4d16-a6ce-58242311a4fc",
   "metadata": {
    "jp-MarkdownHeadingCollapsed": true
   },
   "source": [
    "### [Alphabet war](https://www.codewars.com/kata/59377c53e66267c8f6000027)"
   ]
  },
  {
   "cell_type": "markdown",
   "id": "3ede6b7c-03ae-412a-9311-03da40686f7d",
   "metadata": {},
   "source": [
    "##### **Introduction**\n",
    "\n",
    "There is a war and nobody knows - the alphabet war!\n",
    "\n",
    "There are two groups of hostile letters. The tension between left side letters and right side letters was too high and the war began.\n",
    "\n",
    "##### **Task**\n",
    "\n",
    "Write a function that accepts fight string consists of only small letters and return who wins the fight. When the left side wins return Left side wins!, when the right side wins return Right side wins!, in other case return Let's fight again!.\n",
    "\n",
    "***The left side letters and their power:***\n",
    "\n",
    "w - 4\n",
    "\n",
    "p - 3\n",
    "\n",
    "b - 2\n",
    " \n",
    "s - 1\n",
    "\n",
    "***The right side letters and their power:***\n",
    "\n",
    "m - 4\n",
    " \n",
    "q - 3\n",
    "\n",
    "d - 2\n",
    "\n",
    "z - 1\n",
    "\n",
    "The other letters don't have power and are only victims.\n",
    "\n",
    "##### **Example**\n",
    "\n",
    "AlphabetWar(\"z\");        ============> Right side wins!\n",
    "\n",
    "AlphabetWar(\"zdqmwpbs\"); ============> Let's fight again!\n",
    "\n",
    "AlphabetWar(\"zzzzs\");    ============> Right side wins!\n",
    "\n",
    "AlphabetWar(\"wwwwwwz\");  ============> Left side wins!"
   ]
  },
  {
   "cell_type": "code",
   "execution_count": 26,
   "id": "fa94e04b-bafb-4df5-95ef-804d1a44aa18",
   "metadata": {},
   "outputs": [],
   "source": [
    "dict_left = {\"w\" : 4, \"p\" : 3, \"b\" : 2, \"s\" : 1}\n",
    "dict_right = {\"m\" : 4, \"q\" : 3, \"d\" : 2, \"z\" : 1}\n",
    "alphabet = [dict_left, dict_right]"
   ]
  },
  {
   "cell_type": "code",
   "execution_count": 27,
   "id": "7f758b21-59d5-4cb8-925e-192c9a79f213",
   "metadata": {},
   "outputs": [],
   "source": [
    "def alpha_war (letter_war): # letter_war es la variable que me daran\n",
    "    letter_war = list(letter_war) #Convertirlo en lista para tener cada letra x separado \n",
    "    valores_left = [] # Le pido que almacene los valores encontrados del diccionario left en esa lista\n",
    "    valores_right = [] # Lo mismo con el right\n",
    "    for letter in letter_war: # Iterar sobre cada letra en la lista\n",
    "        if letter in dict_left: # que busque si aparece esa la letra en el diccionario\n",
    "            valores_left.append(dict_left[letter]) # si aparece, la agregue a la lista creada en linea 3\n",
    "        if letter in dict_right:\n",
    "            valores_right.append(dict_right[letter])\n",
    "    suma_left = sum(valores_left) # Sumamos cada elemento de la lista (class int)\n",
    "    suma_right = sum(valores_right)\n",
    "    print(\"Suma de valores en dict_left: \" + str(suma_left)) # Imprimo el resultado de cada suma\n",
    "    print(\"Suma de valores en dict_right: \" + str(suma_right))\n",
    "    if suma_left > suma_right: # Comparo los resultados e imprimo quien gana\n",
    "        return(\"Left side wins!\")\n",
    "    elif suma_left < suma_right: \n",
    "        return(\"Right side wins!\")\n",
    "    else:\n",
    "        return(\"Let's fight again!\")"
   ]
  },
  {
   "cell_type": "code",
   "execution_count": 28,
   "id": "cd113b9f-e0bf-4a41-9917-c84cce36f638",
   "metadata": {},
   "outputs": [
    {
     "name": "stdout",
     "output_type": "stream",
     "text": [
      "Suma de valores en dict_left: 24\n",
      "Suma de valores en dict_right: 1\n"
     ]
    },
    {
     "data": {
      "text/plain": [
       "'Left side wins!'"
      ]
     },
     "execution_count": 28,
     "metadata": {},
     "output_type": "execute_result"
    }
   ],
   "source": [
    "letter_war = \"wwwwwwz\"\n",
    "alpha_war(letter_war)"
   ]
  },
  {
   "cell_type": "code",
   "execution_count": 29,
   "id": "69dd9944-e7dd-4101-8f59-08aba149efd1",
   "metadata": {},
   "outputs": [
    {
     "name": "stdout",
     "output_type": "stream",
     "text": [
      "Suma de valores en dict_left: 10\n",
      "Suma de valores en dict_right: 10\n"
     ]
    },
    {
     "data": {
      "text/plain": [
       "\"Let's fight again!\""
      ]
     },
     "execution_count": 29,
     "metadata": {},
     "output_type": "execute_result"
    }
   ],
   "source": [
    "letter_war = \"zdqmwpbs\"\n",
    "alpha_war(letter_war)"
   ]
  },
  {
   "cell_type": "markdown",
   "id": "e405daaa-752a-412a-a50a-c7a813f599df",
   "metadata": {},
   "source": [
    "Resolucion + simple en Codewars"
   ]
  },
  {
   "cell_type": "code",
   "execution_count": 22,
   "id": "49936818-b9dc-4d1e-9bb1-db06d52bb3cc",
   "metadata": {},
   "outputs": [],
   "source": [
    "def alphabet_war(fight):\n",
    "    d = {'w':4,'p':3,'b':2,'s':1,\n",
    "         'm':-4,'q':-3,'d':-2,'z':-1}\n",
    "    r = sum(d[c] for c in fight if c in d)\n",
    "    \n",
    "    return {r==0:\"Let's fight again!\",\n",
    "            r>0:\"Left side wins!\",\n",
    "            r<0:\"Right side wins!\"\n",
    "            }[True]"
   ]
  },
  {
   "cell_type": "markdown",
   "id": "10b819a3-682e-4884-a09e-2363af6c2a13",
   "metadata": {},
   "source": [
    "Otra resolucion + simple en Codewars"
   ]
  },
  {
   "cell_type": "code",
   "execution_count": 23,
   "id": "4b555e45-e73e-4cc9-ac10-ffd37f9f9199",
   "metadata": {},
   "outputs": [],
   "source": [
    "def alphabet_war(fight):\n",
    "  left = {'w':4,'p':3,'b':2,'s':1}\n",
    "  rigth = {'m':4,'q':3,'d':2,'z':1}\n",
    "  leftp = 0\n",
    "  rigthp = 0\n",
    "  for e in fight:\n",
    "    leftp += left.get(e,0)\n",
    "    rigthp += rigth.get(e,0)\n",
    "  if leftp > rigthp:\n",
    "    return'Left side wins!'\n",
    "  elif rigthp > leftp:\n",
    "    return 'Right side wins!'\n",
    "  else:\n",
    "    return \"Let's fight again!\""
   ]
  },
  {
   "cell_type": "markdown",
   "id": "6fb85f01-0eb0-4f5e-99dc-abda18be6ff3",
   "metadata": {},
   "source": [
    "Otra solucion mas corta"
   ]
  },
  {
   "cell_type": "code",
   "execution_count": 24,
   "id": "8fdbe721-192f-4a53-b035-79c0222a4f32",
   "metadata": {},
   "outputs": [],
   "source": [
    "dict_left = {\"w\": 4, \"p\": 3, \"b\": 2, \"s\": 1}\n",
    "dict_right = {\"m\": 4, \"q\": 3, \"d\": 2, \"z\": 1}\n",
    "def alpha_war (letter_war): # letter_war es la variable que me daran\n",
    "    letter_war = list(letter_war) #Convertirlo en lista para tener cada letra x separado \n",
    "    valores_left = 0 # Le pido que almacene los valores encontrados del diccionario left en esa lista\n",
    "    valores_right = 0 # Lo mismo con el right\n",
    "    for letter in letter_war: # Iterar sobre cada letra en la lista\n",
    "        if letter in dict_left: # que busque si aparece esa la letra en el diccionario\n",
    "            valores_left += dict_left[letter] # si aparece, la agregue a la lista creada en linea 3\n",
    "        if letter in dict_right:\n",
    "            valores_right += dict_right[letter]\n",
    "    if valores_left > valores_right: # Comparo los resultados e imprimo quien gana\n",
    "        return(\"Left side wins!\")\n",
    "    elif valores_left < valores_right: \n",
    "        return(\"Right side wins!\")\n",
    "    else:\n",
    "        return(\"Let's fight again!\")"
   ]
  },
  {
   "cell_type": "code",
   "execution_count": 25,
   "id": "3f823e95-7857-4291-ad7a-791b93fcf6c2",
   "metadata": {},
   "outputs": [
    {
     "data": {
      "text/plain": [
       "\"Let's fight again!\""
      ]
     },
     "execution_count": 25,
     "metadata": {},
     "output_type": "execute_result"
    }
   ],
   "source": [
    "letter_war = \"zdqmwpbs\"\n",
    "alpha_war(letter_war)"
   ]
  },
  {
   "cell_type": "markdown",
   "id": "dab480bd-f9e8-4e85-922f-23f0b7fb91a1",
   "metadata": {},
   "source": [
    "## Level 3: \"Lemon Squeezy\""
   ]
  },
  {
   "cell_type": "markdown",
   "id": "3a0e4979-a72b-4f4c-9dd6-29923fe69323",
   "metadata": {},
   "source": [
    "### [Counting in the Amazon](https://www.codewars.com/kata/55b95c76e08bd5eef100001e)"
   ]
  },
  {
   "cell_type": "markdown",
   "id": "75dbac60-1bbb-4501-8aa0-11e0a12f7d39",
   "metadata": {},
   "source": [
    "The Arara are an isolated tribe found in the Amazon who count in pairs. For example one to eight is as follows:\n",
    "\n",
    "1 = anane\n",
    "\n",
    "2 = adak\n",
    "\n",
    "3 = adak anane\n",
    "\n",
    "4 = adak adak\n",
    "\n",
    "5 = adak adak anane\n",
    "\n",
    "6 = adak adak adak\n",
    "\n",
    "7 = adak adak adak anane\n",
    "\n",
    "8 = adak adak adak adak\n",
    "\n",
    "\n",
    "\n",
    "**Take a given number and return the Arara's equivalent.**\n",
    "\n",
    "\n",
    "e.g.\n",
    "\n",
    "count_arara(3) # -> 'adak anane'\n",
    "\n",
    "count_arara(8) # -> 'adak adak adak adak'\n",
    "\n",
    "countArara 3 // -> \"adak anane\"\n",
    "\n",
    "countArara 8 // -> \"adak adak adak adak\""
   ]
  },
  {
   "cell_type": "code",
   "execution_count": 54,
   "id": "f4d34138-0b96-4fc0-84f2-13a7d88b3045",
   "metadata": {},
   "outputs": [],
   "source": [
    "def count_arara(n):\n",
    "    result = []\n",
    "    while n >= 2:\n",
    "        result.append(\"adak\")\n",
    "        n_n = n - 2\n",
    "        n = n_n\n",
    "    if n == 1:\n",
    "        result.append (\"anane\")\n",
    "    return \" \".join(result)"
   ]
  },
  {
   "cell_type": "code",
   "execution_count": null,
   "id": "ef995b14-95ba-4960-8e53-5e776855064e",
   "metadata": {},
   "outputs": [],
   "source": [
    "count_arara(17)"
   ]
  },
  {
   "cell_type": "markdown",
   "id": "2a990154-2762-4a76-93da-e2bd50e7a7bb",
   "metadata": {},
   "source": [
    "Resolucion + simple en Codewars"
   ]
  },
  {
   "cell_type": "code",
   "execution_count": 58,
   "id": "be8e0667-1f89-440a-8102-8f0832f6934c",
   "metadata": {},
   "outputs": [],
   "source": [
    "def count_arara(n):\n",
    "    return \" \".join(['adak']*(n//2) + ['anane']*(n%2))"
   ]
  },
  {
   "cell_type": "markdown",
   "id": "85c30d50-6be8-4260-950c-677d1a63bd2a",
   "metadata": {},
   "source": [
    "Otra resolucion + simple en Codewars"
   ]
  },
  {
   "cell_type": "code",
   "execution_count": 59,
   "id": "0daf8976-455b-4035-803a-5a47d7a3811e",
   "metadata": {},
   "outputs": [],
   "source": [
    "def count_arara(n):\n",
    "    # our independent cases are at 1 and 2 so we return immediately once we n equals any of them\n",
    "    if n == 1:\n",
    "       return \"anane\"\n",
    "    if n == 2: \n",
    "       return \"adak\"\n",
    "    #using a recursive function we return for any by adding \"adak\" to the strings for every previous value\n",
    "    return \"adak\" + \" \" + count_arara(n-2)"
   ]
  },
  {
   "cell_type": "markdown",
   "id": "9f68dc2d-470d-49d6-92bf-55b47abff051",
   "metadata": {},
   "source": [
    "### [Pandemia](https://www.codewars.com/kata/5e2596a9ad937f002e510435)"
   ]
  },
  {
   "cell_type": "markdown",
   "id": "02b82c05-4d35-442e-882c-af84b4658af7",
   "metadata": {},
   "source": [
    "The world is in quarantine! There is a new pandemia that struggles mankind. Each continent is isolated from each other but infected people have spread before the warning. \n",
    "\n",
    "You would be given a map of the world in a type of string:\n",
    "\n",
    "    string s = \"01000000X000X011X0X\"\n",
    "    \n",
    "    '0' : uninfected\n",
    "    \n",
    "    '1' : infected\n",
    "    \n",
    "    'X' : ocean\n",
    "\n",
    "- The virus can't spread in the other side of the ocean.\n",
    "- If one person is infected every person in this continent gets infected too.\n",
    "- Your task is to find the percentage of human population that got infected in the end.\n",
    "  \n",
    "- Return the percentage % of the total population that got infected.\n",
    "\n",
    "The first and the last continent are not connected!\n",
    "\n",
    "Example:\n",
    "\n",
    "     start: map1 = \"01000000X000X011X0X\"\n",
    "     \n",
    "     end:   map1 = \"11111111X000X111X0X\"\n",
    "     \n",
    "     total = 15\n",
    "     \n",
    "     infected = 11\n",
    "     \n",
    "     percentage = 100*11/15 = 73.33333333333333\n",
    " \n",
    "- For maps without oceans \"X\" the whole world is connected.\n",
    "- For maps without \"0\" and \"1\" return 0 as there is no population."
   ]
  },
  {
   "cell_type": "code",
   "execution_count": 7,
   "id": "5fffb4ca-2fa0-4f24-969e-98772ff41cf9",
   "metadata": {},
   "outputs": [],
   "source": [
    "def pandemia(mapa):\n",
    "    mapa = mapa.split(\"X\")\n",
    "    nuevo_mapa = []\n",
    "    for i in mapa:\n",
    "        if \"1\" in i:\n",
    "            replaced_mapa = i.replace(\"0\", \"1\")\n",
    "        else: \n",
    "            replaced_mapa = i\n",
    "        nuevo_mapa.append(replaced_mapa) \n",
    "    poblacion = 0\n",
    "    for i in nuevo_mapa:\n",
    "        poblacion = poblacion + (len(i))\n",
    "    if poblacion == 0:\n",
    "        return 0\n",
    "    infectados = 0\n",
    "    for i in nuevo_mapa:\n",
    "        infectados = infectados + i.count(\"1\")\n",
    "    porcentaje = 100.0 * infectados / poblacion\n",
    "    return porcentaje"
   ]
  },
  {
   "cell_type": "code",
   "execution_count": null,
   "id": "84a62d8d-803d-4d6e-a4ad-0b3383cff395",
   "metadata": {},
   "outputs": [],
   "source": [
    "pandemia(\"01000000X000X011X0X\")"
   ]
  },
  {
   "cell_type": "markdown",
   "id": "6d6adeb1-21db-4fb7-9fc8-fec8797e113a",
   "metadata": {},
   "source": [
    "# Practicando Python"
   ]
  },
  {
   "cell_type": "markdown",
   "id": "7d3e50db",
   "metadata": {},
   "source": [
    "## Nivel 8 Python"
   ]
  },
  {
   "cell_type": "markdown",
   "id": "add4dab1",
   "metadata": {},
   "source": [
    "### [Find numbers which are divisible by given number](https://www.codewars.com/kata/55edaba99da3a9c84000003b/python)"
   ]
  },
  {
   "cell_type": "markdown",
   "id": "deb484b3",
   "metadata": {},
   "source": [
    "**Description:**\n",
    "\n",
    "Complete the function which takes two arguments and returns all numbers which are divisible by the given divisor. First argument is an array of numbers and the second is the divisor.\n",
    "\n",
    "Example\n",
    "(Input1, Input2 --> Output)\n",
    " [1, 2, 3, 4, 5, 6], 2 --> [2, 4, 6]"
   ]
  },
  {
   "cell_type": "code",
   "execution_count": 38,
   "id": "29487248",
   "metadata": {},
   "outputs": [],
   "source": [
    "def divisible_by (numbers, divisor):\n",
    "    nuevo_numeros = []\n",
    "    for i in numbers:\n",
    "        if i % divisor == 0:\n",
    "            nuevo_numeros.append(i)\n",
    "    return(nuevo_numeros)"
   ]
  },
  {
   "cell_type": "code",
   "execution_count": 40,
   "id": "efcc47e6",
   "metadata": {},
   "outputs": [
    {
     "name": "stdout",
     "output_type": "stream",
     "text": [
      "[3, 6]\n"
     ]
    }
   ],
   "source": [
    "divisible([3, 6], 3)"
   ]
  },
  {
   "cell_type": "markdown",
   "id": "ce7ae6b7",
   "metadata": {},
   "source": [
    "### [String ends with?](https://www.codewars.com/kata/51f2d1cafc9c0f745c00037d/train/python)"
   ]
  },
  {
   "cell_type": "markdown",
   "id": "938b5d98",
   "metadata": {},
   "source": [
    "Complete the solution so that it returns true if the first argument(string) passed in ends with the 2nd argument (also a string)."
   ]
  },
  {
   "cell_type": "code",
   "execution_count": 1,
   "id": "5d501f25",
   "metadata": {},
   "outputs": [],
   "source": [
    "def solution(text, ending):\n",
    "    if ending in text:\n",
    "        return True\n",
    "    else:\n",
    "        return False"
   ]
  },
  {
   "cell_type": "code",
   "execution_count": 2,
   "id": "3799ad6d",
   "metadata": {},
   "outputs": [
    {
     "data": {
      "text/plain": [
       "True"
      ]
     },
     "execution_count": 2,
     "metadata": {},
     "output_type": "execute_result"
    }
   ],
   "source": [
    "solution('abc', 'bc')"
   ]
  },
  {
   "cell_type": "markdown",
   "id": "8b541e89",
   "metadata": {},
   "source": [
    "### [Find the first non-consecutive number](https://www.codewars.com/kata/58f8a3a27a5c28d92e000144)"
   ]
  },
  {
   "cell_type": "markdown",
   "id": "e85402e6",
   "metadata": {},
   "source": [
    "Your task is to find the first element of an array that is not consecutive.\n",
    "\n",
    "By not consecutive we mean not exactly 1 larger than the previous element of the array.\n",
    "\n",
    "E.g. If we have an array [1,2,3,4,6,7,8] then 1 then 2 then 3 then 4 are all consecutive but 6 is not, so that's the first non-consecutive number.\n",
    "\n",
    "If the whole array is consecutive then return null.\n",
    "\n",
    "The array will always have at least 2 elements1 and all elements will be numbers. The numbers will also all be unique and in ascending order. The numbers could be positive or negative and the first non-consecutive could be either too!\n",
    "\n"
   ]
  },
  {
   "cell_type": "code",
   "execution_count": 62,
   "id": "d4f5e2ad",
   "metadata": {},
   "outputs": [],
   "source": [
    "def consecutivo(numbers):\n",
    "    for i in range(1, len(numbers)): # el start del range es 1, que es la posicion 1 en la lista, que sera el numero 2. El stop del range es el 7 (que es el numero de elementos que hay en a lista. De esta forma, nos aseguramos que se incluya en la iteracion el ultimo elemento)\n",
    "        if numbers[i] != numbers[i-1]+1: # OJO!!! En el bucle, i toma valores de 0 a 3, que son los índices de numbers. Cuando usamos numbers[i], obtienes los elementos de la lista correspondientes a esos índices.\n",
    "            return numbers[i] # pedimos que devuelva el valor ese.\n",
    "    else: \n",
    "        return None"
   ]
  },
  {
   "cell_type": "code",
   "execution_count": 63,
   "id": "eb1c9b5c",
   "metadata": {},
   "outputs": [
    {
     "data": {
      "text/plain": [
       "6"
      ]
     },
     "execution_count": 63,
     "metadata": {},
     "output_type": "execute_result"
    }
   ],
   "source": [
    "consecutivo([1,2,3,4,6,7,8])"
   ]
  },
  {
   "cell_type": "markdown",
   "id": "4050cda4",
   "metadata": {},
   "source": [
    "Mejor solucion en CW"
   ]
  },
  {
   "cell_type": "code",
   "execution_count": 64,
   "id": "41e5625b",
   "metadata": {},
   "outputs": [],
   "source": [
    "def first_non_consecutive(arr):\n",
    "    if not arr: return 0\n",
    "    for i, x in enumerate(arr[:-1]):\n",
    "        if x + 1 != arr[i + 1]:\n",
    "            return arr[i + 1]"
   ]
  },
  {
   "cell_type": "code",
   "execution_count": 67,
   "id": "ae7c60f8",
   "metadata": {},
   "outputs": [],
   "source": [
    "first_non_consecutive([1,2,3,4,5,6,7,8])"
   ]
  },
  {
   "cell_type": "markdown",
   "id": "d86cbad2",
   "metadata": {},
   "source": [
    "### [Sum without highest and lowest number](https://www.codewars.com/kata/576b93db1129fcf2200001e6)"
   ]
  },
  {
   "cell_type": "markdown",
   "id": "b7d2150e",
   "metadata": {},
   "source": [
    "**Task**\n",
    "\n",
    "Sum all the numbers of a given array ( cq. list ), except the highest and the lowest element ( by value, not by index! ).\n",
    "\n",
    "The highest or lowest element respectively is a single element at each edge, even if there are more than one with the same value.\n",
    "\n",
    "Mind the input validation.\n",
    "\n",
    "**Example**\n",
    "\n",
    "{ 6, 2, 1, 8, 10 } => 16\n",
    "\n",
    "{ 1, 1, 11, 2, 3 } => 6\n",
    "\n",
    "**Input validation**\n",
    "\n",
    "If an empty value ( null, None, Nothing, nil etc. ) is given instead of an array, or the given array is an empty list or a list with only 1 element, return 0."
   ]
  },
  {
   "cell_type": "code",
   "execution_count": 84,
   "id": "45cf40ce",
   "metadata": {},
   "outputs": [],
   "source": [
    "def sum_array(arr):\n",
    "    if arr is None or arr == 0:\n",
    "        return 0\n",
    "    elif len(arr) == 0 or len(arr) == 1:\n",
    "        return 0\n",
    "    else:\n",
    "        arr.sort()\n",
    "        arr.pop(-1)\n",
    "        arr.pop(0)\n",
    "    return(sum(arr))"
   ]
  },
  {
   "cell_type": "code",
   "execution_count": 85,
   "id": "eec50945",
   "metadata": {},
   "outputs": [
    {
     "data": {
      "text/plain": [
       "0"
      ]
     },
     "execution_count": 85,
     "metadata": {},
     "output_type": "execute_result"
    }
   ],
   "source": [
    "arr=[]\n",
    "sum_array(arr)"
   ]
  },
  {
   "cell_type": "markdown",
   "id": "fbcf2c14",
   "metadata": {},
   "source": [
    "Solucion + simple CW"
   ]
  },
  {
   "cell_type": "code",
   "execution_count": 86,
   "id": "6a81d338",
   "metadata": {},
   "outputs": [],
   "source": [
    "def sum_array(arr):\n",
    "    if arr == None or len(arr) < 3:\n",
    "        return 0\n",
    "    return sum(arr) - max(arr) - min(arr)"
   ]
  }
 ],
 "metadata": {
  "kernelspec": {
   "display_name": "Python 3 (ipykernel)",
   "language": "python",
   "name": "python3"
  },
  "language_info": {
   "codemirror_mode": {
    "name": "ipython",
    "version": 3
   },
   "file_extension": ".py",
   "mimetype": "text/x-python",
   "name": "python",
   "nbconvert_exporter": "python",
   "pygments_lexer": "ipython3",
   "version": "3.11.9"
  }
 },
 "nbformat": 4,
 "nbformat_minor": 5
}
